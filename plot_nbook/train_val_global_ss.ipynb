{
 "cells": [
  {
   "cell_type": "code",
   "execution_count": 1,
   "metadata": {
    "collapsed": true
   },
   "outputs": [],
   "source": [
    "# Copyright (c) 2020 ETH Zurich, Xiaying Wang, Michael Hersche, Batuhan Toemekce, \n",
    "# Burak Kaya, Michele Magno, and Luca Benini"
   ]
  },
  {
   "cell_type": "code",
   "execution_count": 1,
   "metadata": {},
   "outputs": [],
   "source": [
    "%matplotlib inline\n",
    "import matplotlib as plt\n",
    "import matplotlib.pyplot as plt\n",
    "plt.rc('axes', axisbelow=True)\n",
    "import numpy as np\n",
    "import os"
   ]
  },
  {
   "cell_type": "markdown",
   "metadata": {},
   "source": [
    "## Plot Training and Validation Accuracy for Global Model"
   ]
  },
  {
   "cell_type": "code",
   "execution_count": 2,
   "metadata": {},
   "outputs": [],
   "source": [
    "# plot global model results \n",
    "def plot_global(path,num_classes,n_ds,n_ch,T):\n",
    "    \n",
    "    \n",
    "    all_acc = np.zeros((5,4,100))\n",
    "    for split_ctr in range(5):\n",
    "        file = '{:}\\stats\\global_class_{}_ds{:}_nch{:}_T{}_split_{:}.csv'.format(path,num_classes,n_ds,n_ch,T,split_ctr)\n",
    "        all_acc[split_ctr] = np.genfromtxt(file, delimiter=' ')\n",
    "    \n",
    "    epochs = np.arange(100)\n",
    "    handles = plt.plot(epochs, [[a*100 for a in b] for b in all_acc[:,0].transpose()], ':')\n",
    "    plt.gca().set_prop_cycle(None)\n",
    "    handles = plt.plot(epochs, [[a*100 for a in b] for b in all_acc[:,1].transpose()], '-')\n",
    "    \n",
    "    plt.plot(epochs,100*all_acc[:,0].mean(axis=0),linestyle = ':',linewidth=3,color='black',label = 'Avg Training')\n",
    "    plt.plot(epochs,100*all_acc[:,1].mean(axis=0),linestyle = '-',linewidth=3,color ='black',label = 'Avg Validation')\n",
    "    plt.legend()\n",
    "    plt.grid()\n",
    "    plt.xlabel(\"Epochs\")\n",
    "    plt.ylabel(\"Accuracy [%]\")\n",
    "    \n",
    "    # print avg accuracy\n",
    "    print(\"Global Model {:}-class MI \\nAvg Training Accuracy:\\t\\t{:.2f}%\\nAvg Validation Accuracy:\\t{:.2f}%\".format(\n",
    "        num_classes,100*all_acc[:,0,-1].mean(),100*all_acc[:,1,-1].mean()))\n",
    "        "
   ]
  },
  {
   "cell_type": "code",
   "execution_count": 3,
   "metadata": {},
   "outputs": [
    {
     "ename": "ValueError",
     "evalue": "could not broadcast input array from shape (2,4) into shape (4,100)",
     "output_type": "error",
     "traceback": [
      "\u001b[1;31m---------------------------------------------------------------------------\u001b[0m",
      "\u001b[1;31mValueError\u001b[0m                                Traceback (most recent call last)",
      "\u001b[1;32m<ipython-input-3-065dd80fd7f3>\u001b[0m in \u001b[0;36m<module>\u001b[1;34m\u001b[0m\n\u001b[0;32m      7\u001b[0m \u001b[0mnum_classes\u001b[0m \u001b[1;33m=\u001b[0m \u001b[1;36m4\u001b[0m\u001b[1;33m\u001b[0m\u001b[1;33m\u001b[0m\u001b[0m\n\u001b[0;32m      8\u001b[0m \u001b[1;33m\u001b[0m\u001b[0m\n\u001b[1;32m----> 9\u001b[1;33m \u001b[0mplot_global\u001b[0m\u001b[1;33m(\u001b[0m\u001b[0mresult_path\u001b[0m\u001b[1;33m,\u001b[0m\u001b[0mnum_classes\u001b[0m\u001b[1;33m,\u001b[0m\u001b[0mn_ds\u001b[0m\u001b[1;33m,\u001b[0m\u001b[0mn_ch\u001b[0m\u001b[1;33m,\u001b[0m\u001b[0mT\u001b[0m\u001b[1;33m)\u001b[0m\u001b[1;33m\u001b[0m\u001b[1;33m\u001b[0m\u001b[0m\n\u001b[0m",
      "\u001b[1;32m<ipython-input-2-a50e8dbfb4d7>\u001b[0m in \u001b[0;36mplot_global\u001b[1;34m(path, num_classes, n_ds, n_ch, T)\u001b[0m\n\u001b[0;32m      6\u001b[0m     \u001b[1;32mfor\u001b[0m \u001b[0msplit_ctr\u001b[0m \u001b[1;32min\u001b[0m \u001b[0mrange\u001b[0m\u001b[1;33m(\u001b[0m\u001b[1;36m5\u001b[0m\u001b[1;33m)\u001b[0m\u001b[1;33m:\u001b[0m\u001b[1;33m\u001b[0m\u001b[1;33m\u001b[0m\u001b[0m\n\u001b[0;32m      7\u001b[0m         \u001b[0mfile\u001b[0m \u001b[1;33m=\u001b[0m \u001b[1;34m'{:}\\stats\\global_class_{}_ds{:}_nch{:}_T{}_split_{:}.csv'\u001b[0m\u001b[1;33m.\u001b[0m\u001b[0mformat\u001b[0m\u001b[1;33m(\u001b[0m\u001b[0mpath\u001b[0m\u001b[1;33m,\u001b[0m\u001b[0mnum_classes\u001b[0m\u001b[1;33m,\u001b[0m\u001b[0mn_ds\u001b[0m\u001b[1;33m,\u001b[0m\u001b[0mn_ch\u001b[0m\u001b[1;33m,\u001b[0m\u001b[0mT\u001b[0m\u001b[1;33m,\u001b[0m\u001b[0msplit_ctr\u001b[0m\u001b[1;33m)\u001b[0m\u001b[1;33m\u001b[0m\u001b[1;33m\u001b[0m\u001b[0m\n\u001b[1;32m----> 8\u001b[1;33m         \u001b[0mall_acc\u001b[0m\u001b[1;33m[\u001b[0m\u001b[0msplit_ctr\u001b[0m\u001b[1;33m]\u001b[0m \u001b[1;33m=\u001b[0m \u001b[0mnp\u001b[0m\u001b[1;33m.\u001b[0m\u001b[0mgenfromtxt\u001b[0m\u001b[1;33m(\u001b[0m\u001b[0mfile\u001b[0m\u001b[1;33m,\u001b[0m \u001b[0mdelimiter\u001b[0m\u001b[1;33m=\u001b[0m\u001b[1;34m' '\u001b[0m\u001b[1;33m)\u001b[0m\u001b[1;33m\u001b[0m\u001b[1;33m\u001b[0m\u001b[0m\n\u001b[0m\u001b[0;32m      9\u001b[0m \u001b[1;33m\u001b[0m\u001b[0m\n\u001b[0;32m     10\u001b[0m     \u001b[0mepochs\u001b[0m \u001b[1;33m=\u001b[0m \u001b[0mnp\u001b[0m\u001b[1;33m.\u001b[0m\u001b[0marange\u001b[0m\u001b[1;33m(\u001b[0m\u001b[1;36m100\u001b[0m\u001b[1;33m)\u001b[0m\u001b[1;33m\u001b[0m\u001b[1;33m\u001b[0m\u001b[0m\n",
      "\u001b[1;31mValueError\u001b[0m: could not broadcast input array from shape (2,4) into shape (4,100)"
     ]
    }
   ],
   "source": [
    "experiment_name = 'firstTry'\n",
    "result_path = r\"C:\\Users\\atace\\eegnet-based-embedded-bci-master\\results\"\n",
    "result_path += f\"\\{experiment_name}\"\n",
    "n_ds = 1\n",
    "n_ch = 64\n",
    "T = 3\n",
    "num_classes = 4\n",
    "\n",
    "plot_global(result_path,num_classes,n_ds,n_ch,T)"
   ]
  },
  {
   "cell_type": "markdown",
   "metadata": {},
   "source": [
    "## Large Scale Search for best 4-class Setting\n",
    "This script shows how Fig. 5 in the paper is constructed."
   ]
  },
  {
   "cell_type": "code",
   "execution_count": 146,
   "metadata": {},
   "outputs": [
    {
     "name": "stdout",
     "output_type": "stream",
     "text": [
      "Configuration\tkB\tAcc\n",
      "ds3_nch19_T1\t36.07\t61.86\n",
      "ds3_nch27_T1\t51.26\t58.05\n",
      "ds2_nch19_T1\t53.44\t61.33\n",
      "ds3_nch19_T2\t71.47\t62.03\n",
      "ds3_nch38_T1\t72.14\t62.51\n",
      "ds2_nch27_T1\t75.94\t58.98\n",
      "ds3_nch27_T2\t101.57\t59.51\n",
      "ds1_nch19_T1\t106.88\t61.62\n",
      "ds3_nch19_T3\t106.88\t62.41\n",
      "ds2_nch38_T1\t106.88\t62.68\n",
      "ds2_nch19_T2\t106.88\t62.36\n",
      "ds3_nch64_T1\t121.50\t62.61\n",
      "ds3_nch38_T2\t142.95\t64.76\n",
      "ds3_nch27_T3\t151.88\t60.11\n",
      "ds2_nch27_T2\t151.88\t59.84\n",
      "ds1_nch27_T1\t151.88\t58.12\n",
      "ds2_nch19_T3\t160.31\t62.91\n",
      "ds2_nch64_T1\t180.00\t62.34\n",
      "ds3_nch38_T3\t213.75\t64.25\n",
      "ds2_nch38_T2\t213.75\t63.97\n",
      "ds1_nch19_T2\t213.75\t62.17\n",
      "ds1_nch38_T1\t213.75\t63.08\n",
      "ds2_nch27_T3\t227.81\t59.60\n",
      "ds3_nch64_T2\t240.75\t63.74\n",
      "ds1_nch27_T2\t303.75\t59.51\n",
      "ds1_nch19_T3\t320.62\t62.55\n",
      "ds2_nch38_T3\t320.62\t64.52\n",
      "ds3_nch64_T3\t360.00\t64.77\n",
      "ds2_nch64_T2\t360.00\t64.27\n",
      "ds1_nch64_T1\t360.00\t63.51\n",
      "ds1_nch38_T2\t427.50\t64.39\n",
      "ds1_nch27_T3\t455.62\t60.20\n",
      "ds2_nch64_T3\t540.00\t64.81\n",
      "ds1_nch38_T3\t641.25\t64.65\n",
      "ds1_nch64_T2\t720.00\t64.13\n",
      "ds1_nch64_T3\t1080.00\t65.07\n"
     ]
    },
    {
     "data": {
      "image/png": "[encoded data removed]",
      "text/plain": [
       "<matplotlib.figure.Figure at 0x7f31b3303d58>"
      ]
     },
     "metadata": {},
     "output_type": "display_data"
    }
   ],
   "source": [
    "#Names of directoriesto access\n",
    "directory = '../results/paper_results/stats'\n",
    "fs = 160\n",
    "T_vec = [1,2,3]\n",
    "ds_vec = [1,2,3]\n",
    "nch_vec = [19,27,38,64]\n",
    "\n",
    "KB_scale = 1000/1024\n",
    "\n",
    "memftprnt = np.zeros(36)\n",
    "acc = np.zeros(36)\n",
    "cnt = 0\n",
    "num_classes = 4\n",
    "\n",
    "ram_M4 = 90\n",
    "ram_M7 = 290\n",
    "\n",
    "ram_base = (480*64+480*64*40)*4/1000*KB_scale\n",
    "acc_base = 58.59\n",
    "\n",
    "markers = {1:\"s\", 2:\"P\", 3:\"o\"}\n",
    "configurations = []\n",
    "\n",
    "plt.rcParams.update({'font.size': 14})\n",
    "# ACCURACY\n",
    "plt.figure()\n",
    "# plot baseline \n",
    "plt.scatter(ram_base,acc_base,color = 'C6',marker = 'D',s = 75,label='Dose et al. [18]')\n",
    "cnt_last = 0\n",
    "for T in  T_vec:\n",
    "\n",
    "    for n_ds in ds_vec:\n",
    "        for n_ch in nch_vec: \n",
    "            #Names of files to access\n",
    "            config_name = 'ds{:}_nch{:}_T{:}'.format(n_ds,n_ch,T)\n",
    "            configurations.append(config_name)\n",
    "            validation_acc_str  = '{:}/global_class_{:}_{:}_split_'.format(directory,num_classes,config_name)\n",
    "            \n",
    "            if os.path.isfile('{:}{:}.csv'.format(validation_acc_str,split)):\n",
    "            \n",
    "                for split in range(5):\n",
    "                    validation_acc_df   = np.loadtxt('{:}{:}.csv'.format(validation_acc_str,split))\n",
    "                    acc[cnt] += validation_acc_df[1,-1]\n",
    "                acc[cnt] = acc[cnt]/5\n",
    "                \n",
    "                # compute memory footprint\n",
    "                Ns = np.ceil(T*fs/n_ds) # number of input samples \n",
    "                poolLength = np.ceil(8/n_ds) \n",
    "                Np = Ns*n_ch*9 \n",
    "                memftprnt[cnt] = Np*4/1e3*KB_scale # memory footprint in kiB\n",
    "                \n",
    "                # draw circle around the best performing\n",
    "                if config_name ==\"ds3_nch38_T1\": \n",
    "                    plt.scatter(memftprnt[cnt],acc[cnt]*100,color = 'blue',s=150,linewidth=1.5,facecolors='none')\n",
    "                elif config_name ==\"ds3_nch38_T2\": \n",
    "                    plt.scatter(memftprnt[cnt],acc[cnt]*100,color = 'tab:cyan',s=150,linewidth=1.5,facecolors='none')\n",
    "                    \n",
    "                cnt +=1\n",
    "\n",
    "    plt.plot(memftprnt[cnt_last:cnt],acc[cnt_last:cnt]*100,marker=markers[T],linewidth=0,\n",
    "        color = 'C{:}'.format(T),label='T={:}s'.format(T)) #illstyle='none'\n",
    "    plt.xlabel('RAM requirements (log-scale) [KB]')\n",
    "    plt.ylabel('Accuracy [%]')\n",
    "    plt.ylim([y_min,y_max])\n",
    "\n",
    "    cnt_last = cnt\n",
    "    \n",
    "index = np.argsort(memftprnt)\n",
    "print(\"{:}\\t{:}\\t{:}\".format(\"Configuration\",\"kB\",\"Acc\"))\n",
    "for idx in index:\n",
    "    print(\"{:}\\t{:.2f}\\t{:.2f}\".format(configurations[idx],memftprnt[idx],acc[idx]*100))\n",
    "\n",
    "plt.ylim([50,66])\n",
    "plt.xlim([30,10000])\n",
    "\n",
    "# plot limits \n",
    "plt.plot([ram_M4,ram_M4],[y_min,y_max],color = 'blue',linestyle=':',label='RAM limit M4')\n",
    "plt.plot([ram_M7,ram_M7],[y_min,y_max],color = 'tab:cyan',linestyle='--',label='RAM limit M7')\n",
    "\n",
    "plt.grid()\n",
    "plt.legend()\n",
    "plt.xscale('log')"
   ]
  },
  {
   "cell_type": "markdown",
   "metadata": {},
   "source": [
    "## Compute Accuracy for Subject-specific Transfer Learning"
   ]
  },
  {
   "cell_type": "code",
   "execution_count": 147,
   "metadata": {},
   "outputs": [],
   "source": [
    "# plot global model results \n",
    "def plot_ss(path,num_classes,n_ds,n_ch,T):\n",
    "    \n",
    "    all_subjects = range(1,110)\n",
    "    excluded_subjects=[88,92,100,104]\n",
    "    subjects = [x for x in all_subjects if (x not in excluded_subjects)]\n",
    "    n_sub = len(subjects)\n",
    "    n_epoch = 5\n",
    "    n_fold = 4\n",
    "    n_res = 4 # both validation and training accuracy and loss\n",
    "    all_acc = np.zeros((n_sub,n_fold,n_res,n_epoch+1)) \n",
    "    \n",
    "    for sub_idx in range(n_sub):\n",
    "        sub_number = subjects[sub_idx]\n",
    "        for split_ctr in range(4): \n",
    "            file = '{:}/stats/ss_class_{:}_ds{:}_nch{:}_T{:}_sub{:}_split_{:}.csv'.format(\n",
    "                path,num_classes,n_ds,n_ch,T,sub_number,split_ctr)\n",
    "            all_acc[sub_idx,split_ctr] = np.genfromtxt(file, delimiter=' ')#transpose()\n",
    "            #np.savetxt(file, all_acc[sub_idx,split_ctr])\n",
    "    \n",
    "    global_acc = 100*all_acc[:,1,1,0].mean()\n",
    "    ss_acc = 100*all_acc[:,1,1,-1].mean()\n",
    "    # print avg accuracy\n",
    "    print(\"Global Model {:}-class MI\\n----------------------\\nAvg Validation Accuracy:\\t{:.2f}%\\n\".format(\n",
    "        num_classes,global_acc))\n",
    "    print(\"SS Model {:}-class MI\\n----------------------\\nAvg Validation Accuracy:\\t{:.2f}%\\nAvg Accuracy Increase\\t\\t{:.2f}%\".format(\n",
    "        num_classes,ss_acc, ss_acc-global_acc))\n",
    "    \n",
    "    # plot training curve \n",
    "    epochs = np.arange(n_epoch+1)\n",
    "    \n",
    "    plt.plot(epochs,100*all_acc[:,:,0].mean(axis=(0,1)),linestyle = ':',linewidth=3,color='black',label = 'Avg Training')\n",
    "    plt.plot(epochs,100*all_acc[:,:,1].mean(axis=(0,1)),linestyle = '-',linewidth=3,color ='black',label = 'Avg Validation')\n",
    "    plt.legend()\n",
    "    plt.grid()\n",
    "    plt.xlabel(\"Epochs\")\n",
    "    plt.ylabel(\"Accuracy [%]\")\n",
    "    \n",
    "    "
   ]
  },
  {
   "cell_type": "code",
   "execution_count": 148,
   "metadata": {},
   "outputs": [
    {
     "name": "stdout",
     "output_type": "stream",
     "text": [
      "Global Model 4-class MI\n",
      "----------------------\n",
      "Avg Validation Accuracy:\t64.51%\n",
      "\n",
      "SS Model 4-class MI\n",
      "----------------------\n",
      "Avg Validation Accuracy:\t70.41%\n",
      "Avg Accuracy Increase\t\t5.90%\n"
     ]
    },
    {
     "data": {
      "image/png": "[encoded data removed]",
      "text/plain": [
       "<matplotlib.figure.Figure at 0x7f31b31e1e90>"
      ]
     },
     "metadata": {},
     "output_type": "display_data"
    }
   ],
   "source": [
    "experiment_name = 'paper_results'\n",
    "result_path = '../results/'+experiment_name\n",
    "n_ds = 1\n",
    "n_ch = 64\n",
    "T = 3\n",
    "num_classes = 4\n",
    "\n",
    "plot_ss(result_path,num_classes,n_ds,n_ch,T)"
   ]
  }
 ],
 "metadata": {
  "kernelspec": {
   "display_name": "Python 3",
   "language": "python",
   "name": "python3"
  },
  "language_info": {
   "codemirror_mode": {
    "name": "ipython",
    "version": 3
   },
   "file_extension": ".py",
   "mimetype": "text/x-python",
   "name": "python",
   "nbconvert_exporter": "python",
   "pygments_lexer": "ipython3",
   "version": "3.8.5"
  }
 },
 "nbformat": 4,
 "nbformat_minor": 1
}
